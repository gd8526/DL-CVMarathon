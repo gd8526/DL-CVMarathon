{
 "cells": [
  {
   "cell_type": "markdown",
   "metadata": {
    "id": "0t3och-F5ze5"
   },
   "source": [
    "# Day 5 作業\n",
    "\n",
    "## [作業目標]:\n",
    "使用 OpenCV 進行影像標注,使用 matplotlib 繪製多圖。\n",
    "\n",
    "## [作業重點]:\n",
    "1. 紅匡標注、對角線繪製、座標標注、多圖繪製\n",
    "2. 取得 圖片的 histogram\n",
    "\n",
    "\n",
    "\n",
    "\n",
    "## 解題步驟\n",
    "\n",
    "### 第一大題 (OpenCV 標註訓練)\n",
    "\n",
    "1. 將 Lena 的臉蛋用紅框框起來\n",
    "2. 畫出紅匡中的對角線\n",
    "3. 標注紅匡左上角的座標\n",
    "4. 利用 subplot 將三張圖片繪製出來\n",
    "\n",
    "### 第二大題 (繪製 Histogram)\n",
    "\n",
    "1. 獲得 3 個 channel (RGB) 的 histogram\n",
    "2. 利用 subplot 繪製出來"
   ]
  },
  {
   "cell_type": "code",
   "execution_count": 1,
   "metadata": {
    "id": "xBOgpV4W5zfD"
   },
   "outputs": [],
   "source": [
    "import cv2\n",
    "import numpy as np\n",
    "import matplotlib.pyplot as plt\n",
    "\n",
    "img = cv2.imread('./lena.png')"
   ]
  },
  {
   "cell_type": "markdown",
   "metadata": {
    "id": "zdr0aqEN5zfE"
   },
   "source": [
    "### 第一大題 (OpenCV 標註訓練)\n",
    "\n",
    "1. 將 Lena 的臉蛋用紅框框起來\n",
    "2. 畫出紅匡中的對角線\n",
    "3. 標注紅匡左上角的座標\n",
    "4. 利用 subplot 將三張圖片繪製出來"
   ]
  },
  {
   "cell_type": "code",
   "execution_count": null,
   "metadata": {
    "id": "kJ5m7m9d5zfF"
   },
   "outputs": [],
   "source": [
    "# 獲得用紅匡標注的圖片\n",
    "img_rect = img.copy()\n",
    "cv2.rectangle(img_rect, (60, 40), (420, 520), )\n",
    "\n",
    "# 獲得用對角線標注的圖片\n",
    "\"\"\" Your Code Here: \"\"\"\n",
    "\n",
    "# 獲得具有座標標注的圖片\n",
    "\"\"\" Your Code Here: \"\"\"\n",
    "\n",
    "# 利用 subplot 將三張圖片繪製出來\n",
    "\"\"\" Your Code Here: \"\"\""
   ]
  },
  {
   "cell_type": "markdown",
   "metadata": {
    "id": "vrNqVREv5zfF"
   },
   "source": [
    "### 第二大題 (繪製 Histogram)\n",
    "\n",
    "1. 獲得 3 個 channel (RGB) 的 histogram\n",
    "2. 利用 subplot 繪製出來"
   ]
  },
  {
   "cell_type": "code",
   "execution_count": null,
   "metadata": {
    "id": "hpA6kB3f5zfG"
   },
   "outputs": [],
   "source": [
    "# 繪製 Histogram\n",
    "\"\"\" Your Code Here: \"\"\""
   ]
  },
  {
   "cell_type": "code",
   "execution_count": null,
   "metadata": {
    "id": "JOqxpNpz5zfG"
   },
   "outputs": [],
   "source": []
  }
 ],
 "metadata": {
  "colab": {
   "collapsed_sections": [],
   "name": "Day005_draw_Hw.ipynb",
   "provenance": []
  },
  "kernelspec": {
   "display_name": "Python 3 (ipykernel)",
   "language": "python",
   "name": "python3"
  },
  "language_info": {
   "codemirror_mode": {
    "name": "ipython",
    "version": 3
   },
   "file_extension": ".py",
   "mimetype": "text/x-python",
   "name": "python",
   "nbconvert_exporter": "python",
   "pygments_lexer": "ipython3",
   "version": "3.9.13"
  }
 },
 "nbformat": 4,
 "nbformat_minor": 1
}
